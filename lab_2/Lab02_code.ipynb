{
 "cells": [
  {
   "cell_type": "code",
   "execution_count": 8,
   "metadata": {},
   "outputs": [
    {
     "name": "stdout",
     "output_type": "stream",
     "text": [
      "The result for part 1 is: 302231454903657293676544\n"
     ]
    }
   ],
   "source": [
    "part1 = [1, 2, 4, 8, 16, 32, 64, 128, 256, 512, 1024, 2048, 4096]\n",
    "\n",
    "num = 1\n",
    "\n",
    "for i in part1:\n",
    "    num = num * i\n",
    "\n",
    "print('The result for part 1 is:', num)"
   ]
  },
  {
   "cell_type": "code",
   "execution_count": 9,
   "metadata": {},
   "outputs": [
    {
     "name": "stdout",
     "output_type": "stream",
     "text": [
      "The result for part 2 is: 719788176\n"
     ]
    }
   ],
   "source": [
    "# part 2 \n",
    "\n",
    "part2 = [-1, 23, 483, 8573, -13847, -381569, 1652337, 718522177]\n",
    "\n",
    "num2 = 0\n",
    "\n",
    "for i in part2: \n",
    "    num2 = num2 + i\n",
    "\n",
    "print('The result for part 2 is:', num2)"
   ]
  },
  {
   "cell_type": "code",
   "execution_count": 11,
   "metadata": {},
   "outputs": [
    {
     "name": "stdout",
     "output_type": "stream",
     "text": [
      "The result for part 3 is: 458\n"
     ]
    }
   ],
   "source": [
    "# part 3 \n",
    "\n",
    "part3 = [146, 875, 911, 83, 81, 439, 44, 5, 46, 76, 61, 68, 1, 14, 38, 26, 21]\n",
    "\n",
    "num3 = 0\n",
    "\n",
    "for i in part3:\n",
    "    if i %2 == 0:\n",
    "        num3 = num3 + i\n",
    "\n",
    "print('The result for part 3 is:', num3)\n"
   ]
  },
  {
   "cell_type": "code",
   "execution_count": null,
   "metadata": {},
   "outputs": [],
   "source": []
  }
 ],
 "metadata": {
  "kernelspec": {
   "display_name": "Python 3",
   "language": "python",
   "name": "python3"
  },
  "language_info": {
   "codemirror_mode": {
    "name": "ipython",
    "version": 3
   },
   "file_extension": ".py",
   "mimetype": "text/x-python",
   "name": "python",
   "nbconvert_exporter": "python",
   "pygments_lexer": "ipython3",
   "version": "3.11.4"
  },
  "orig_nbformat": 4
 },
 "nbformat": 4,
 "nbformat_minor": 2
}
