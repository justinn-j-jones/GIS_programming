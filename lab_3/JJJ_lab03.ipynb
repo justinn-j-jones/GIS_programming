{
 "cells": [
  {
   "cell_type": "code",
   "execution_count": 1,
   "metadata": {},
   "outputs": [
    {
     "name": "stdout",
     "output_type": "stream",
     "text": [
      "Shape: Rectangle\n",
      "Shape: Circle\n",
      "Shape: Triangle\n",
      "Shape: Triangle\n",
      "Shape: Triangle\n",
      "Shape: Circle\n",
      "Shape: Rectangle\n",
      "Shape: Rectangle\n",
      "Shape: Triangle\n",
      "Shape: Circle\n"
     ]
    }
   ],
   "source": [
    "file = open(r'shape.txt')\n",
    "lines = file.readlines()\n",
    "file.close()\n",
    "\n",
    "for line in lines: \n",
    "    components = line.split(',')\n",
    "    shape = components[0]\n",
    "    print('Shape: ' + shape)"
   ]
  },
  {
   "cell_type": "code",
   "execution_count": 3,
   "metadata": {},
   "outputs": [],
   "source": [
    "class Shape():\n",
    "    def __init__(self):\n",
    "        pass\n",
    "    def getArea(self):\n",
    "        pass "
   ]
  },
  {
   "cell_type": "code",
   "execution_count": 10,
   "metadata": {},
   "outputs": [],
   "source": [
    "class Rectangle(Shape):\n",
    "    def __init__(self, l, w):\n",
    "        super().__init__()\n",
    "        self.l = l\n",
    "        self.w = w\n",
    "    def getArea(self):\n",
    "        return self.l * self.w \n",
    "    "
   ]
  },
  {
   "cell_type": "code",
   "execution_count": 17,
   "metadata": {},
   "outputs": [],
   "source": [
    "class Circle(Shape):\n",
    "    def __init__(self, radius):\n",
    "        super().__init__()\n",
    "        self.radius = radius \n",
    "    def getArea(self):\n",
    "        return 3.14 * self.radius * self.radius"
   ]
  },
  {
   "cell_type": "code",
   "execution_count": 18,
   "metadata": {},
   "outputs": [],
   "source": [
    "class Triangle(Shape):\n",
    "    def __init__(self,b,h):\n",
    "        super().__init__()\n",
    "        self.b = b\n",
    "        self.h = h \n",
    "    def getArea(self):\n",
    "        return 0.5 * self.b * self.h "
   ]
  },
  {
   "cell_type": "code",
   "execution_count": 19,
   "metadata": {},
   "outputs": [
    {
     "name": "stdout",
     "output_type": "stream",
     "text": [
      "5.0\n",
      "28.259999999999998\n",
      "4.0\n",
      "13.5\n",
      "20.0\n",
      "28.259999999999998\n",
      "8.0\n",
      "30.0\n",
      "10.0\n",
      "254.34\n"
     ]
    }
   ],
   "source": [
    "totalShapes = []\n",
    "\n",
    "file = open(r'shape.txt')\n",
    "lines = file.readlines()\n",
    "file.close()\n",
    "\n",
    "for line in lines: \n",
    "    components = line.split(',')\n",
    "    shape = components[0]\n",
    "\n",
    "    if shape == 'Rectangle':\n",
    "        x = float(components[1])\n",
    "        y = float(components[2])\n",
    "        totalShapes.append(Rectangle(x,y))\n",
    "    elif shape == 'Circle':\n",
    "        x = float(components[1])\n",
    "        totalShapes.append(Circle(x))\n",
    "    elif shape == 'Triangle':\n",
    "        x = float(components[1])\n",
    "        y = float(components[2])\n",
    "        totalShapes.append(Triangle(x,y))\n",
    "    else: \n",
    "        pass\n",
    "\n",
    "for shape in totalShapes:\n",
    "    print(shape.getArea())"
   ]
  },
  {
   "cell_type": "code",
   "execution_count": null,
   "metadata": {},
   "outputs": [],
   "source": []
  }
 ],
 "metadata": {
  "kernelspec": {
   "display_name": "Python 3",
   "language": "python",
   "name": "python3"
  },
  "language_info": {
   "codemirror_mode": {
    "name": "ipython",
    "version": 3
   },
   "file_extension": ".py",
   "mimetype": "text/x-python",
   "name": "python",
   "nbconvert_exporter": "python",
   "pygments_lexer": "ipython3",
   "version": "3.11.4"
  },
  "orig_nbformat": 4
 },
 "nbformat": 4,
 "nbformat_minor": 2
}
