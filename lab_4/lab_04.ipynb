{
 "cells": [
  {
   "cell_type": "code",
   "execution_count": 1,
   "metadata": {},
   "outputs": [],
   "source": [
    "import arcpy"
   ]
  },
  {
   "cell_type": "code",
   "execution_count": 2,
   "metadata": {},
   "outputs": [
    {
     "data": {
      "text/html": [
       "<div class='gpresult'><h2>Messages</h2><div id='messages' data-messages='[\"Start Time: Monday, October 23, 2023 18:07:12\",\"Succeeded at Monday, October 23, 2023 18:07:13 (Elapsed Time: 1.07 seconds)\"]' data-show='true'><div id = 'default' /></div></div>"
      ],
      "text/plain": [
       "<Result 'C:\\\\Users\\\\justi\\\\OneDrive - Texas A&M University\\\\Academics\\\\GEOG 676 - GIS Prog\\\\lab_git\\\\GIS_programming\\\\lab_4\\\\lab04.gdb'>"
      ]
     },
     "execution_count": 2,
     "metadata": {},
     "output_type": "execute_result"
    }
   ],
   "source": [
    "folder_path = r'C:\\Users\\justi\\OneDrive - Texas A&M University\\Academics\\GEOG 676 - GIS Prog\\lab_git\\GIS_programming\\lab_4'\n",
    "gdb_name = 'lab04.gdb'\n",
    "gdb_path = folder_path + '\\\\' + gdb_name\n",
    "arcpy.CreateFileGDB_management(folder_path, gdb_name)"
   ]
  },
  {
   "cell_type": "code",
   "execution_count": 3,
   "metadata": {},
   "outputs": [],
   "source": [
    "csv_path = r\"C:\\Users\\justi\\OneDrive - Texas A&M University\\Academics\\GEOG 676 - GIS Prog\\lab_git\\GIS_programming\\lab_4\\Lab04_Data\\garages.csv\"\n",
    "garage_layer_name = 'Garage_Points'\n",
    "garages = arcpy.MakeXYEventLayer_management(csv_path, 'X', 'Y', garage_layer_name)\n"
   ]
  },
  {
   "cell_type": "code",
   "execution_count": 4,
   "metadata": {},
   "outputs": [],
   "source": [
    "input_layer = garages\n",
    "arcpy.FeatureClassToGeodatabase_conversion(input_layer, gdb_path)\n",
    "garage_points = gdb_path + '\\\\' + garage_layer_name"
   ]
  },
  {
   "cell_type": "code",
   "execution_count": 5,
   "metadata": {},
   "outputs": [
    {
     "data": {
      "text/html": [
       "<div class='gpresult'><h2>Messages</h2><div id='messages' data-messages='[\"Start Time: Monday, October 23, 2023 18:13:35\",\"Succeeded at Monday, October 23, 2023 18:13:36 (Elapsed Time: 1.37 seconds)\"]' data-show='true'><div id = 'default' /></div></div>"
      ],
      "text/plain": [
       "<Result 'C:\\\\Users\\\\justi\\\\OneDrive - Texas A&M University\\\\Academics\\\\GEOG 676 - GIS Prog\\\\lab_git\\\\GIS_programming\\\\lab_4\\\\lab04.gdb\\\\Buildings'>"
      ]
     },
     "execution_count": 5,
     "metadata": {},
     "output_type": "execute_result"
    }
   ],
   "source": [
    "campus = r\"C:\\Users\\justi\\OneDrive - Texas A&M University\\Academics\\GEOG 676 - GIS Prog\\lab_git\\GIS_programming\\lab_4\\Lab04_Data\\Campus.gdb\"\n",
    "buildings_campus = campus + '\\\\Structures' \n",
    "buildings = gdb_path + '\\\\' + 'Buildings'\n",
    "arcpy.Copy_management(buildings_campus, buildings)"
   ]
  },
  {
   "cell_type": "code",
   "execution_count": 6,
   "metadata": {},
   "outputs": [
    {
     "data": {
      "text/html": [
       "<div class='gpresult'><h2>Messages</h2><div id='messages' data-messages='[\"Start Time: Monday, October 23, 2023 18:15:26\",\"Succeeded at Monday, October 23, 2023 18:15:27 (Elapsed Time: 0.95 seconds)\"]' data-show='true'><div id = 'default' /></div></div>"
      ],
      "text/plain": [
       "<Result 'C:\\\\Users\\\\justi\\\\OneDrive - Texas A&M University\\\\Academics\\\\GEOG 676 - GIS Prog\\\\lab_git\\\\GIS_programming\\\\lab_4\\\\lab04.gdb\\\\Garage_Points_reprojected'>"
      ]
     },
     "execution_count": 6,
     "metadata": {},
     "output_type": "execute_result"
    }
   ],
   "source": [
    "spatial_ref = arcpy.Describe(buildings).spatialReference \n",
    "arcpy.Project_management(garage_points, gdb_path + '\\Garage_Points_reprojected', spatial_ref)"
   ]
  },
  {
   "cell_type": "code",
   "execution_count": 7,
   "metadata": {},
   "outputs": [
    {
     "data": {
      "text/html": [
       "<div class='gpresult'><h2>Messages</h2><div id='messages' data-messages='[\"Start Time: Monday, October 23, 2023 18:19:43\",\"Succeeded at Monday, October 23, 2023 18:19:43 (Elapsed Time: 0.21 seconds)\"]' data-show='true'><div id = 'default' /></div></div>"
      ],
      "text/plain": [
       "<Result 'C:\\\\Users\\\\justi\\\\OneDrive - Texas A&M University\\\\Academics\\\\GEOG 676 - GIS Prog\\\\lab_git\\\\GIS_programming\\\\lab_4\\\\Lab04_Data\\\\nearbyBuildings.csv'>"
      ]
     },
     "execution_count": 7,
     "metadata": {},
     "output_type": "execute_result"
    }
   ],
   "source": [
    "garageBuffered = arcpy.Buffer_analysis(gdb_path + '\\Garage_Points_reprojected', gdb_path + '\\Garage_Points_buffered', 150)\n",
    "arcpy.Intersect_analysis([garageBuffered, buildings], gdb_path + '\\Garage_Building_intersection', 'ALL')\n",
    "arcpy.TableToTable_conversion(gdb_path + '\\Garage_Building_intersection.dbf', \n",
    "                              r'C:\\Users\\justi\\OneDrive - Texas A&M University\\Academics\\GEOG 676 - GIS Prog\\lab_git\\GIS_programming\\lab_4\\Lab04_Data', \n",
    "                              'nearbyBuildings.csv')"
   ]
  },
  {
   "cell_type": "code",
   "execution_count": null,
   "metadata": {},
   "outputs": [],
   "source": []
  }
 ],
 "metadata": {
  "kernelspec": {
   "display_name": "Python 3",
   "language": "python",
   "name": "python3"
  },
  "language_info": {
   "codemirror_mode": {
    "name": "ipython",
    "version": 3
   },
   "file_extension": ".py",
   "mimetype": "text/x-python",
   "name": "python",
   "nbconvert_exporter": "python",
   "pygments_lexer": "ipython3",
   "version": "3.9.16"
  }
 },
 "nbformat": 4,
 "nbformat_minor": 2
}
