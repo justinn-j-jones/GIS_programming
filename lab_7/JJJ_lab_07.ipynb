{
 "cells": [
  {
   "cell_type": "code",
   "execution_count": 1,
   "metadata": {},
   "outputs": [],
   "source": [
    "import arcpy"
   ]
  },
  {
   "cell_type": "code",
   "execution_count": 6,
   "metadata": {},
   "outputs": [],
   "source": [
    "source = r'C:\\Users\\justi\\OneDrive - Texas A&M University\\Academics\\GEOG 676 - GIS Prog\\lab_git\\GIS_programming\\lab_7\\Lab07_Data'\n",
    "result = r'C:\\Users\\justi\\OneDrive - Texas A&M University\\Academics\\GEOG 676 - GIS Prog\\lab_git\\GIS_programming\\lab_7\\Lab07_Result'"
   ]
  },
  {
   "cell_type": "code",
   "execution_count": 10,
   "metadata": {},
   "outputs": [],
   "source": [
    "b1 = arcpy.sa.Raster(source + '\\LT05_L2SP_026039_20110803_20200820_02_T1_SR_B1.TIF')\n",
    "b2 = arcpy.sa.Raster(source + '\\LT05_L2SP_026039_20110803_20200820_02_T1_SR_B2.TIF')\n",
    "b3 = arcpy.sa.Raster(source + '\\LT05_L2SP_026039_20110803_20200820_02_T1_SR_B3.TIF')\n",
    "b4 = arcpy.sa.Raster(source + '\\LT05_L2SP_026039_20110803_20200820_02_T1_SR_B4.TIF')"
   ]
  },
  {
   "cell_type": "code",
   "execution_count": 15,
   "metadata": {},
   "outputs": [],
   "source": [
    "composite = arcpy.CompositeBands_management([b1, b2, b3, b4], result + '\\combined.tif')"
   ]
  },
  {
   "cell_type": "code",
   "execution_count": 17,
   "metadata": {},
   "outputs": [],
   "source": [
    "azimuth = 315\n",
    "altitude = 45\n",
    "shadows = 'NO_SHADOWS'\n",
    "z_factor = 1"
   ]
  },
  {
   "cell_type": "code",
   "execution_count": 19,
   "metadata": {},
   "outputs": [
    {
     "data": {
      "text/html": [
       "<div class='gpresult'><h2>Messages</h2><div id='messages' data-messages='[\"Start Time: Wednesday, November 29, 2023 13:35:48\",\"Succeeded at Wednesday, November 29, 2023 13:35:50 (Elapsed Time: 1.85 seconds)\"]' data-show='true'><div id = 'default' /></div></div>"
      ],
      "text/plain": [
       "<Result 'C:\\\\Users\\\\justi\\\\OneDrive - Texas A&M University\\\\Academics\\\\GEOG 676 - GIS Prog\\\\lab_git\\\\GIS_programming\\\\lab_7\\\\Lab07_Result\\\\hillshade.tif'>"
      ]
     },
     "execution_count": 19,
     "metadata": {},
     "output_type": "execute_result"
    }
   ],
   "source": [
    "arcpy.ddd.HillShade(source + '\\\\n30_w097_1arc_v3.tif', result + '\\hillshade.tif', azimuth, altitude, shadows, z_factor)"
   ]
  },
  {
   "cell_type": "code",
   "execution_count": 20,
   "metadata": {},
   "outputs": [
    {
     "data": {
      "text/html": [
       "<div class='gpresult'><h2>Messages</h2><div id='messages' data-messages='[\"Start Time: Wednesday, November 29, 2023 13:37:28\",\"No compatible GPU device has been detected.\",\"Succeeded at Wednesday, November 29, 2023 13:37:29 (Elapsed Time: 0.56 seconds)\"]' data-show='true'><div id = 'default' /></div></div>"
      ],
      "text/plain": [
       "<Result 'C:\\\\Users\\\\justi\\\\OneDrive - Texas A&M University\\\\Academics\\\\GEOG 676 - GIS Prog\\\\lab_git\\\\GIS_programming\\\\lab_7\\\\Lab07_Result\\\\slopes.tif'>"
      ]
     },
     "execution_count": 20,
     "metadata": {},
     "output_type": "execute_result"
    }
   ],
   "source": [
    "output_measurement = 'DEGREE' \n",
    "arcpy.ddd.Slope(source + '\\\\n30_w097_1arc_v3.tif', result + '\\\\slopes.tif', output_measurement, z_factor)"
   ]
  },
  {
   "cell_type": "code",
   "execution_count": null,
   "metadata": {},
   "outputs": [],
   "source": []
  },
  {
   "cell_type": "code",
   "execution_count": null,
   "metadata": {},
   "outputs": [],
   "source": []
  }
 ],
 "metadata": {
  "kernelspec": {
   "display_name": "Python 3",
   "language": "python",
   "name": "python3"
  },
  "language_info": {
   "codemirror_mode": {
    "name": "ipython",
    "version": 3
   },
   "file_extension": ".py",
   "mimetype": "text/x-python",
   "name": "python",
   "nbconvert_exporter": "python",
   "pygments_lexer": "ipython3",
   "version": "3.9.18"
  }
 },
 "nbformat": 4,
 "nbformat_minor": 2
}
